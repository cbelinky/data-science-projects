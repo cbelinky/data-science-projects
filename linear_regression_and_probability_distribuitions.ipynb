{
  "cells": [
    {
      "cell_type": "markdown",
      "metadata": {
        "colab_type": "text",
        "id": "ZEOKtuQB4YuL"
      },
      "source": [
        "### Homework 3\n",
        "#### Charlie Belinky\n",
        "Each questions has a grade of 2 points"
      ]
    },
    {
      "cell_type": "markdown",
      "metadata": {
        "colab_type": "text",
        "id": "uULCT_x6R44P"
      },
      "source": [
        "(1) Two candidates A and B are running for a political office in a town with 10,000 eligible voters. Assuming a null hypothesis model of the candidates having equal chances, generate a sample from the population.  "
      ]
    },
    {
      "cell_type": "code",
      "execution_count": 33,
      "metadata": {
        "vscode": {
          "languageId": "python"
        }
      },
      "outputs": [],
      "source": [
        "import matplotlib.pyplot as plt\n",
        "import numpy as np\n",
        "import random\n",
        "import thinkstats2\n",
        "import thinkplot\n",
        "from scipy.stats import entropy"
      ]
    },
    {
      "cell_type": "code",
      "execution_count": 26,
      "metadata": {
        "colab": {},
        "colab_type": "code",
        "id": "Uw8lcQlmS-SK",
        "vscode": {
          "languageId": "python"
        }
      },
      "outputs": [
        {
          "name": "stdout",
          "output_type": "stream",
          "text": [
            "Candidate A: 4966\n",
            "Candidate B: 5034\n"
          ]
        }
      ],
      "source": [
        "# Your code here\n",
        "\n",
        "def bern(p):\n",
        "  r = np.random.uniform(0,1)\n",
        "  if r < p:\n",
        "    return 1\n",
        "  else:\n",
        "    return 0\n",
        "\n",
        "size = 10000\n",
        "y = [0,0]\n",
        "for i in range(size):\n",
        "  index = bern(0.5)\n",
        "  y[index] += 1\n",
        "\n",
        "print(\"Candidate A: \" + str(y[0]))\n",
        "print(\"Candidate B: \" + str(y[1]))"
      ]
    },
    {
      "cell_type": "markdown",
      "metadata": {
        "colab_type": "text",
        "id": "E1H0e0jeUUjQ"
      },
      "source": [
        "(2) A poll conducted by a company found the outcome that 5,100 voters would choose candidate A. Assuming a null hypothesis model of the candidates having equal chances, i.e., no differences, what is the probability of getting results at least as extreme as the outcome from the poll?"
      ]
    },
    {
      "cell_type": "code",
      "execution_count": 32,
      "metadata": {
        "colab": {},
        "colab_type": "code",
        "id": "36bAmoGKXYEW",
        "vscode": {
          "languageId": "python"
        }
      },
      "outputs": [
        {
          "data": {
            "text/plain": [
              "0.039"
            ]
          },
          "execution_count": 32,
          "metadata": {},
          "output_type": "execute_result"
        }
      ],
      "source": [
        "class HypothesisTest(object):\n",
        "\n",
        "    def __init__(self, data):\n",
        "        self.data = data\n",
        "        self.MakeModel()\n",
        "        self.actual = self.TestStatistic(data)\n",
        "\n",
        "    def PValue(self, iters=1000):\n",
        "        self.test_stats = [self.TestStatistic(self.RunModel()) \n",
        "                           for _ in range(iters)]\n",
        "\n",
        "        count = sum(1 for x in self.test_stats if x >= self.actual)\n",
        "        return count / iters\n",
        "\n",
        "    def TestStatistic(self, data):\n",
        "        raise UnimplementedMethodException()\n",
        "\n",
        "    def MakeModel(self):\n",
        "        pass\n",
        "\n",
        "    def RunModel(self):\n",
        "        raise UnimplementedMethodException()\n",
        "\n",
        "class CoinTest(HypothesisTest):\n",
        "\n",
        "    def TestStatistic(self, data):\n",
        "        heads, tails = data\n",
        "        test_stat = abs(heads - tails)\n",
        "        return test_stat\n",
        "\n",
        "    def RunModel(self):\n",
        "        heads, tails = self.data\n",
        "        n = heads + tails\n",
        "        sample = [random.choice('HT') for _ in range(n)]\n",
        "        hist = thinkstats2.Hist(sample)\n",
        "        data = hist['H'], hist['T']\n",
        "        return data\n",
        "\n",
        "\n",
        "ct = CoinTest((5100, 4900))\n",
        "pvalue = ct.PValue()\n",
        "pvalue\n",
        "\n",
        "#after testing the the probability of getting results at least as extreme as the outcome from the poll 1000 times, there is about a 3.9% chance."
      ]
    },
    {
      "cell_type": "markdown",
      "metadata": {
        "colab_type": "text",
        "id": "xmF7PeFH1l4Q"
      },
      "source": [
        "(3) A die D has four sides with the following probabilities:\n",
        "p(1) = p(2) = 1/8, p(3) = 1/4, p(4)= 1/2.\n",
        "What is the entropy of this distribution?"
      ]
    },
    {
      "cell_type": "code",
      "execution_count": 34,
      "metadata": {
        "colab": {},
        "colab_type": "code",
        "id": "obWQGo7B0pmi",
        "vscode": {
          "languageId": "python"
        }
      },
      "outputs": [
        {
          "data": {
            "text/plain": [
              "1.75"
            ]
          },
          "execution_count": 34,
          "metadata": {},
          "output_type": "execute_result"
        }
      ],
      "source": [
        "p = [1/8, 1/8, 1/4, 1/2]\n",
        "H = entropy(p, base=2)\n",
        "H\n",
        "#entropy = 1.75"
      ]
    },
    {
      "cell_type": "markdown",
      "metadata": {
        "colab_type": "text",
        "id": "09xThlnY3TKs"
      },
      "source": [
        "(4) Which probability distribution of the four sides will maximize the entropy? What is the maximum entropy?"
      ]
    },
    {
      "cell_type": "code",
      "execution_count": 35,
      "metadata": {
        "colab": {},
        "colab_type": "code",
        "id": "qq2XzKMS3jEp",
        "vscode": {
          "languageId": "python"
        }
      },
      "outputs": [
        {
          "data": {
            "text/plain": [
              "1.75"
            ]
          },
          "execution_count": 35,
          "metadata": {},
          "output_type": "execute_result"
        }
      ],
      "source": [
        "p = [1/8, 1/8, 1/4, 1/2]\n",
        "H = entropy(p, base=2)\n",
        "H"
      ]
    },
    {
      "cell_type": "markdown",
      "metadata": {
        "colab_type": "text",
        "id": "r8LEvYQ57YXX"
      },
      "source": [
        "(5) A coin C1 has the probability distribution p(T) = p(H) = 1/2\n",
        "Another coin C2 has the probability distribution p(T) = 3/4, p(H) = 1/4\n",
        "What is the relative entropy (Kullback–Leibler divergence ) from C2 to C1?\n",
        "What is the relative entropy (Kullback–Leibler divergence ) from C1 to C2?"
      ]
    },
    {
      "cell_type": "code",
      "execution_count": 40,
      "metadata": {
        "vscode": {
          "languageId": "python"
        }
      },
      "outputs": [
        {
          "name": "stdout",
          "output_type": "stream",
          "text": [
            "C1 to C2:  0.14384103622589042\n",
            "C2 to C1:  0.13081203594113697\n"
          ]
        }
      ],
      "source": [
        "print(\"C1 to C2: \", str(entropy([1/2, 1/2], qk=[3/4, 1/4])))\n",
        "print(\"C2 to C1: \", str(entropy([3/4, 1/4], qk=[1/2, 1/2])))"
      ]
    },
    {
      "cell_type": "markdown",
      "metadata": {
        "colab_type": "text",
        "id": "yOAbz8QTbND6"
      },
      "source": [
        "(6) Generate a sample from a normal distribution with mean = 100 and standard deviation = 15. Bootstrap a sampling distribution from this sample, e.g, resample this sample 1000 times,  and calculate a confidence interval (middle 95%) for the median of the population."
      ]
    },
    {
      "cell_type": "code",
      "execution_count": 60,
      "metadata": {
        "colab": {},
        "colab_type": "code",
        "id": "DZGuMyWHd1Ig",
        "vscode": {
          "languageId": "python"
        }
      },
      "outputs": [
        {
          "data": {
            "text/plain": [
              "array([ 96.2495296 , 101.84408466])"
            ]
          },
          "execution_count": 60,
          "metadata": {},
          "output_type": "execute_result"
        }
      ],
      "source": [
        "\n",
        "sample = np.random.normal(loc = 100, scale =15,size=100)\n",
        "means_boot_samples = []\n",
        "for i in range(1000):\n",
        "                boot_sample = np.random.choice(sample, 100)\n",
        "                means_boot_samples.append(boot_sample.mean())\n",
        "        \n",
        "conf_int = np.percentile(means_boot_samples, [2.5, 97.5])\n",
        "conf_int"
      ]
    }
  ],
  "metadata": {
    "colab": {
      "name": "INST414_Homework3.ipynb",
      "provenance": []
    },
    "kernelspec": {
      "display_name": "Python 3.9.1 64-bit",
      "metadata": {
        "interpreter": {
          "hash": "3d2ca53ac42a111ca68b7f4ad893a9fec5040967cb1730354fa6d50c3a03f6b8"
        }
      },
      "name": "python3"
    }
  },
  "nbformat": 4,
  "nbformat_minor": 0
}
